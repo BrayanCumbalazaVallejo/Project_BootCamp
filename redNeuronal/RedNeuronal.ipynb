{
  "cells": [
    {
      "cell_type": "markdown",
      "metadata": {
        "id": "_umta10ds-ra"
      },
      "source": [
        "## Importar Librerias"
      ]
    },
    {
      "cell_type": "code",
      "execution_count": null,
      "metadata": {
        "id": "_idxEz0jtKV6"
      },
      "outputs": [],
      "source": [
        "# Importar librerias\n",
        "import pandas as pd\n",
        "import numpy as np\n",
        "import tensorflow as tf\n",
        "import matplotlib.pyplot as plt\n",
        "from tensorflow import keras\n",
        "from tensorflow.keras import layers, models\n",
        "from sklearn.metrics import (\n",
        "    classification_report,\n",
        "    confusion_matrix,\n",
        "    accuracy_score,\n",
        "    precision_score,\n",
        "    recall_score,\n",
        "    f1_score,\n",
        ")\n",
        "from sklearn.preprocessing import OneHotEncoder, StandardScaler, LabelEncoder\n",
        "from sklearn.model_selection import train_test_split\n",
        "from sklearn.utils.class_weight import compute_class_weight\n",
        "from tensorflow.keras.callbacks import EarlyStopping\n",
        "from tensorflow.keras.callbacks import ModelCheckpoint\n",
        "\n",
        "# from tensorflow.keras.preprocessing import image\n",
        "# from tensorflow.keras.applications import ResNet101\n",
        "# from tensorflow.keras.models import Model\n",
        "# from tensorflow.keras.layers import Dense, GlobalAveragePooling2D\n",
        "# from tensorflow.keras.preprocessing.image import ImageDataGenerator\n",
        "from tensorflow.keras.optimizers import Adam\n",
        "import seaborn as sns"
      ]
    },
    {
      "cell_type": "markdown",
      "metadata": {
        "id": "svp7h0lGt2xy"
      },
      "source": [
        "## Carga de dataset"
      ]
    },
    {
      "cell_type": "code",
      "execution_count": 5,
      "metadata": {
        "id": "rqi17UpYuQeV"
      },
      "outputs": [],
      "source": [
        "# Cargar datos\n",
        "data = pd.read_csv(\"../files/input/data.csv\")"
      ]
    },
    {
      "cell_type": "code",
      "execution_count": 6,
      "metadata": {
        "colab": {
          "base_uri": "https://localhost:8080/",
          "height": 431
        },
        "id": "wd86AdYfvHA5",
        "outputId": "22ed6633-21e2-41e6-eb64-173ff1911497"
      },
      "outputs": [
        {
          "name": "stdout",
          "output_type": "stream",
          "text": [
            "El data set tiene 127136 registros y 11 columnas\n",
            "Los nombres de las columnas son: \n",
            "BARRIO\n",
            "COMUNA\n",
            "DIRECCIÓN\n",
            "DISEÑO\n",
            "CLASE\n",
            "GRAVEDAÑOSSADAÑOSS\n",
            "DÍA DE LA SEMANA\n",
            "AÑO\n",
            "MES\n",
            "DIA\n",
            "HORA24\n"
          ]
        },
        {
          "data": {
            "text/html": [
              "<div>\n",
              "<style scoped>\n",
              "    .dataframe tbody tr th:only-of-type {\n",
              "        vertical-align: middle;\n",
              "    }\n",
              "\n",
              "    .dataframe tbody tr th {\n",
              "        vertical-align: top;\n",
              "    }\n",
              "\n",
              "    .dataframe thead th {\n",
              "        text-align: right;\n",
              "    }\n",
              "</style>\n",
              "<table border=\"1\" class=\"dataframe\">\n",
              "  <thead>\n",
              "    <tr style=\"text-align: right;\">\n",
              "      <th></th>\n",
              "      <th>BARRIO</th>\n",
              "      <th>COMUNA</th>\n",
              "      <th>DIRECCIÓN</th>\n",
              "      <th>DISEÑO</th>\n",
              "      <th>CLASE</th>\n",
              "      <th>GRAVEDAÑOSSADAÑOSS</th>\n",
              "      <th>DÍA DE LA SEMANA</th>\n",
              "      <th>AÑO</th>\n",
              "      <th>MES</th>\n",
              "      <th>DIA</th>\n",
              "      <th>HORA24</th>\n",
              "    </tr>\n",
              "  </thead>\n",
              "  <tbody>\n",
              "    <tr>\n",
              "      <th>0</th>\n",
              "      <td>palenque</td>\n",
              "      <td>robledo</td>\n",
              "      <td>cl 68 cr 87</td>\n",
              "      <td>via</td>\n",
              "      <td>atropello</td>\n",
              "      <td>heridos</td>\n",
              "      <td>domingo</td>\n",
              "      <td>2017</td>\n",
              "      <td>enero</td>\n",
              "      <td>1</td>\n",
              "      <td>12</td>\n",
              "    </tr>\n",
              "    <tr>\n",
              "      <th>1</th>\n",
              "      <td>villatina</td>\n",
              "      <td>villa hermosa</td>\n",
              "      <td>cr 16 cl 56</td>\n",
              "      <td>via</td>\n",
              "      <td>choque</td>\n",
              "      <td>heridos</td>\n",
              "      <td>domingo</td>\n",
              "      <td>2017</td>\n",
              "      <td>enero</td>\n",
              "      <td>1</td>\n",
              "      <td>12</td>\n",
              "    </tr>\n",
              "    <tr>\n",
              "      <th>2</th>\n",
              "      <td>campo alegre</td>\n",
              "      <td>la américa</td>\n",
              "      <td>cl 44 cr 93</td>\n",
              "      <td>via</td>\n",
              "      <td>choque</td>\n",
              "      <td>heridos</td>\n",
              "      <td>domingo</td>\n",
              "      <td>2017</td>\n",
              "      <td>enero</td>\n",
              "      <td>1</td>\n",
              "      <td>12</td>\n",
              "    </tr>\n",
              "    <tr>\n",
              "      <th>3</th>\n",
              "      <td>las granjas</td>\n",
              "      <td>manrique</td>\n",
              "      <td>cr 41 cl 85</td>\n",
              "      <td>cruce</td>\n",
              "      <td>choque</td>\n",
              "      <td>daños</td>\n",
              "      <td>domingo</td>\n",
              "      <td>2017</td>\n",
              "      <td>enero</td>\n",
              "      <td>1</td>\n",
              "      <td>1</td>\n",
              "    </tr>\n",
              "    <tr>\n",
              "      <th>4</th>\n",
              "      <td>kennedy</td>\n",
              "      <td>doce de octubre</td>\n",
              "      <td>cr 76 cl 91</td>\n",
              "      <td>via</td>\n",
              "      <td>choque</td>\n",
              "      <td>heridos</td>\n",
              "      <td>domingo</td>\n",
              "      <td>2017</td>\n",
              "      <td>enero</td>\n",
              "      <td>1</td>\n",
              "      <td>1</td>\n",
              "    </tr>\n",
              "  </tbody>\n",
              "</table>\n",
              "</div>"
            ],
            "text/plain": [
              "         BARRIO           COMUNA    DIRECCIÓN DISEÑO      CLASE  \\\n",
              "0      palenque          robledo  cl 68 cr 87    via  atropello   \n",
              "1     villatina    villa hermosa  cr 16 cl 56    via     choque   \n",
              "2  campo alegre       la américa  cl 44 cr 93    via     choque   \n",
              "3   las granjas         manrique  cr 41 cl 85  cruce     choque   \n",
              "4       kennedy  doce de octubre  cr 76 cl 91    via     choque   \n",
              "\n",
              "  GRAVEDAÑOSSADAÑOSS DÍA DE LA SEMANA   AÑO    MES  DIA  HORA24  \n",
              "0            heridos          domingo  2017  enero    1      12  \n",
              "1            heridos          domingo  2017  enero    1      12  \n",
              "2            heridos          domingo  2017  enero    1      12  \n",
              "3              daños          domingo  2017  enero    1       1  \n",
              "4            heridos          domingo  2017  enero    1       1  "
            ]
          },
          "execution_count": 6,
          "metadata": {},
          "output_type": "execute_result"
        }
      ],
      "source": [
        "# Datos\n",
        "tamano = data.shape\n",
        "print(f\"El data set tiene {tamano[0]} registros y {tamano[1]} columnas\")\n",
        "print(\"Los nombres de las columnas son: \")\n",
        "for col in data.columns:\n",
        "    print(col)\n",
        "data.head()"
      ]
    },
    {
      "cell_type": "markdown",
      "metadata": {
        "id": "FSaO7BbpxKZG"
      },
      "source": [
        "### Analisis"
      ]
    },
    {
      "cell_type": "code",
      "execution_count": 19,
      "metadata": {
        "colab": {
          "base_uri": "https://localhost:8080/"
        },
        "id": "7GO3ZWl8AaLU",
        "outputId": "2443ef35-a100-4cca-dec8-c6dba6cf8d16"
      },
      "outputs": [
        {
          "name": "stdout",
          "output_type": "stream",
          "text": [
            "<class 'pandas.core.frame.DataFrame'>\n",
            "RangeIndex: 127136 entries, 0 to 127135\n",
            "Data columns (total 11 columns):\n",
            " #   Column              Non-Null Count   Dtype \n",
            "---  ------              --------------   ----- \n",
            " 0   BARRIO              127136 non-null  object\n",
            " 1   COMUNA              127136 non-null  object\n",
            " 2   DIRECCIÓN           127136 non-null  object\n",
            " 3   DISEÑO              127136 non-null  object\n",
            " 4   CLASE               127136 non-null  object\n",
            " 5   GRAVEDAÑOSSADAÑOSS  127136 non-null  object\n",
            " 6   DÍA DE LA SEMANA    127136 non-null  object\n",
            " 7   AÑO                 127136 non-null  int64 \n",
            " 8   MES                 127136 non-null  object\n",
            " 9   DIA                 127136 non-null  int64 \n",
            " 10  HORA24              127136 non-null  int64 \n",
            "dtypes: int64(3), object(8)\n",
            "memory usage: 10.7+ MB\n",
            "None\n",
            "                 AÑO            DIA         HORA24\n",
            "count  127136.000000  127136.000000  127136.000000\n",
            "mean     2016.004704      15.710664      11.995163\n",
            "std         0.814705       8.744525       5.493485\n",
            "min      2015.000000       1.000000       0.000000\n",
            "25%      2015.000000       8.000000       7.000000\n",
            "50%      2016.000000      16.000000      12.000000\n",
            "75%      2017.000000      23.000000      17.000000\n",
            "max      2017.000000      31.000000      23.000000\n"
          ]
        }
      ],
      "source": [
        "# Ver información del DataFrame\n",
        "print(data.info())\n",
        "\n",
        "# Descripción estadística\n",
        "print(data.describe())"
      ]
    },
    {
      "cell_type": "code",
      "execution_count": null,
      "metadata": {
        "colab": {
          "base_uri": "https://localhost:8080/",
          "height": 593
        },
        "id": "VWOwpRNlxMQ7",
        "outputId": "9369851a-9f94-4876-c329-d4175d8daa4c"
      },
      "outputs": [
        {
          "name": "stdout",
          "output_type": "stream",
          "text": [
            "Los tipos de gravedad son: ['heridos' 'daños' 'muertos']\n"
          ]
        },
        {
          "data": {
            "image/png": "[encoded data removed]",
            "text/plain": [
              "<Figure size 1000x600 with 1 Axes>"
            ]
          },
          "metadata": {},
          "output_type": "display_data"
        }
      ],
      "source": [
        "tiposGravedad = data[\"GRAVEDAÑOSSADAÑOSS\"].unique()\n",
        "print(f\"Los tipos de gravedad son: {tiposGravedad}\")\n",
        "\n",
        "# Crear la gráfica\n",
        "sns.set_theme(style=\"whitegrid\")\n",
        "plt.figure(figsize=(10, 6))\n",
        "sns.countplot(\n",
        "    y=\"GRAVEDAÑOSSADAÑOSS\", data=data, palette=\"viridis\", hue=\"GRAVEDAÑOSSADAÑOSS\"\n",
        ")\n",
        "plt.xlabel(\"Gravedad de Daños\", fontsize=14)\n",
        "plt.ylabel(\"Frecuencia\", fontsize=14)\n",
        "plt.title(\"Distribución de la Gravedad de los Daños\", fontsize=16, fontweight=\"bold\")\n",
        "\n",
        "\n",
        "# Mostrar la gráfica\n",
        "plt.show()"
      ]
    },
    {
      "cell_type": "markdown",
      "metadata": {
        "id": "oqAatQcN0Goc"
      },
      "source": [
        "\n",
        "> Podemos observar que el desbalanceo de las clases!\n"
      ]
    },
    {
      "cell_type": "markdown",
      "metadata": {
        "id": "QerYKUXjuy8x"
      },
      "source": [
        "## Prepocesamiento de datos"
      ]
    },
    {
      "cell_type": "code",
      "execution_count": null,
      "metadata": {
        "id": "XeI7kEkwu6Lf"
      },
      "outputs": [],
      "source": [
        "features = [\n",
        "    \"CLASE\",\n",
        "    \"DÍA DE LA SEMANA\",\n",
        "    \"MES\",\n",
        "    \"HORA24\",\n",
        "    \"DISEÑO\",\n",
        "    \"COMUNA\",\n",
        "]  # Variables independiente\n",
        "target = \"GRAVEDAÑOSSADAÑOSS\"  # Variable dependiente\n",
        "\n",
        "# Codificar la variable objetivo (daños=0, heridos=1, muertos=2)\n",
        "labelEncoder = LabelEncoder()\n",
        "data[target] = labelEncoder.fit_transform(data[target])\n",
        "\n",
        "# One-Hot Encoding de variables categóricas\n",
        "encoder = OneHotEncoder(drop=\"first\", sparse_output=False)\n",
        "encodedFeatures = encoder.fit_transform(\n",
        "    data[[\"CLASE\", \"DÍA DE LA SEMANA\", \"MES\", \"DISEÑO\", \"COMUNA\"]]\n",
        ")\n",
        "encodedFeatureNames = encoder.get_feature_names_out(\n",
        "    [\"CLASE\", \"DÍA DE LA SEMANA\", \"MES\", \"DISEÑO\", \"COMUNA\"]\n",
        ")\n",
        "\n",
        "# Crear DataFrame con variables codificadas\n",
        "dataEncoded = pd.DataFrame(encodedFeatures, columns=encodedFeatureNames)\n",
        "\n",
        "# Normalizar variables numéricas\n",
        "scaler = StandardScaler()\n",
        "dataScaled = pd.DataFrame(scaler.fit_transform(data[[\"HORA24\"]]), columns=[\"HORA24\"])\n",
        "\n",
        "# Unir todas las características\n",
        "X = pd.concat([dataEncoded, dataScaled], axis=1)\n",
        "y = data[target]"
      ]
    },
    {
      "cell_type": "code",
      "execution_count": 32,
      "metadata": {
        "colab": {
          "base_uri": "https://localhost:8080/"
        },
        "id": "unldj8r5M9h1",
        "outputId": "1abc329e-6ae0-4294-c947-e5655807a3a1"
      },
      "outputs": [
        {
          "name": "stdout",
          "output_type": "stream",
          "text": [
            "Características seleccionadas: ['CLASE_caida ocupante', 'CLASE_choque', 'CLASE_otro', 'CLASE_volcamiento', 'DISEÑO_lote', 'DISEÑO_otro', 'DISEÑO_via', 'COMUNA_buenos aires', 'COMUNA_castilla', 'COMUNA_corregimiento de san cristóbal', 'COMUNA_doce de octubre', 'COMUNA_el poblado', 'COMUNA_la candelaria', 'COMUNA_laureles estadio', 'COMUNA_manrique', 'COMUNA_popular', 'COMUNA_robledo', 'COMUNA_san javier', 'COMUNA_santa cruz', 'COMUNA_villa hermosa']\n"
          ]
        }
      ],
      "source": [
        "# from sklearn.feature_selection import SelectKBest, f_classif\n",
        "\n",
        "# # Separar datos y etiquetas\n",
        "# Xk = dataEnconded.drop(columns=target)  # Reemplaza \"target\" con la variable que intentas predecir\n",
        "# yk = dataEnconded[target]\n",
        "\n",
        "# # Seleccionar las K mejores características (ajusta el número según tu dataset)\n",
        "# selector = SelectKBest(score_func=f_classif, k=20)\n",
        "# X_new = selector.fit_transform(Xk, yk)\n",
        "\n",
        "# # Ver las características seleccionadas\n",
        "# selected_features = X.columns[selector.get_support()]\n",
        "# print(\"Características seleccionadas:\", list(selected_features))"
      ]
    },
    {
      "cell_type": "markdown",
      "metadata": {
        "id": "amidbj-PC-tq"
      },
      "source": [
        "## Red Neuronal"
      ]
    },
    {
      "cell_type": "markdown",
      "metadata": {
        "id": "L6bOBC7ODmAx"
      },
      "source": [
        "### Dividir datos"
      ]
    },
    {
      "cell_type": "code",
      "execution_count": null,
      "metadata": {
        "colab": {
          "base_uri": "https://localhost:8080/"
        },
        "id": "sGeCfLm9DD9L",
        "outputId": "11d5176c-4687-48a4-9023-a1086ea1e9ac"
      },
      "outputs": [
        {
          "name": "stdout",
          "output_type": "stream",
          "text": [
            "Clase 0: 0.749992626021296\n",
            "Clase 1: 0.6059674459617264\n",
            "Clase 2: 60.97601918465228\n"
          ]
        }
      ],
      "source": [
        "# Dividir en conjunto de entrenamiento y prueba (80% entrenamiento, 20% prueba)\n",
        "X_train, X_test, y_train, y_test = train_test_split(\n",
        "    X, y, test_size=0.2, random_state=42, stratify=y\n",
        ")\n",
        "\n",
        "# Calcular pesos de clase\n",
        "classWeights = compute_class_weight(\"balanced\", classes=np.unique(y_train), y=y_train)\n",
        "classWeightsDict = {i: classWeights[i] for i in range(len(classWeights))}\n",
        "\n",
        "# Ponderado de cada clase para balancear el target\n",
        "for clase, pesos in classWeightsDict.items():\n",
        "    print(f\"Clase {clase}: {pesos}\")"
      ]
    },
    {
      "cell_type": "markdown",
      "metadata": {
        "id": "IZ07jCTdEwhW"
      },
      "source": [
        "### Definir Red neuronal"
      ]
    },
    {
      "cell_type": "code",
      "execution_count": null,
      "metadata": {
        "colab": {
          "base_uri": "https://localhost:8080/",
          "height": 1000
        },
        "id": "SL6Q_rHNEvsQ",
        "outputId": "b57d8b0f-eb26-4c97-acf4-f048d52f64a5"
      },
      "outputs": [
        {
          "name": "stderr",
          "output_type": "stream",
          "text": [
            "/usr/local/lib/python3.11/dist-packages/keras/src/layers/core/dense.py:87: UserWarning: Do not pass an `input_shape`/`input_dim` argument to a layer. When using Sequential models, prefer using an `Input(shape)` object as the first layer in the model instead.\n",
            "  super().__init__(activity_regularizer=activity_regularizer, **kwargs)\n"
          ]
        },
        {
          "data": {
            "text/html": [
              "<pre style=\"white-space:pre;overflow-x:auto;line-height:normal;font-family:Menlo,'DejaVu Sans Mono',consolas,'Courier New',monospace\"><span style=\"font-weight: bold\">Model: \"sequential_1\"</span>\n",
              "</pre>\n"
            ],
            "text/plain": [
              "\u001b[1mModel: \"sequential_1\"\u001b[0m\n"
            ]
          },
          "metadata": {},
          "output_type": "display_data"
        },
        {
          "data": {
            "text/html": [
              "<pre style=\"white-space:pre;overflow-x:auto;line-height:normal;font-family:Menlo,'DejaVu Sans Mono',consolas,'Courier New',monospace\">┏━━━━━━━━━━━━━━━━━━━━━━━━━━━━━━━━━━━━━━┳━━━━━━━━━━━━━━━━━━━━━━━━━━━━━┳━━━━━━━━━━━━━━━━━┓\n",
              "┃<span style=\"font-weight: bold\"> Layer (type)                         </span>┃<span style=\"font-weight: bold\"> Output Shape                </span>┃<span style=\"font-weight: bold\">         Param # </span>┃\n",
              "┡━━━━━━━━━━━━━━━━━━━━━━━━━━━━━━━━━━━━━━╇━━━━━━━━━━━━━━━━━━━━━━━━━━━━━╇━━━━━━━━━━━━━━━━━┩\n",
              "│ dense_7 (<span style=\"color: #0087ff; text-decoration-color: #0087ff\">Dense</span>)                      │ (<span style=\"color: #00d7ff; text-decoration-color: #00d7ff\">None</span>, <span style=\"color: #00af00; text-decoration-color: #00af00\">128</span>)                 │           <span style=\"color: #00af00; text-decoration-color: #00af00\">6,016</span> │\n",
              "├──────────────────────────────────────┼─────────────────────────────┼─────────────────┤\n",
              "│ batch_normalization_4                │ (<span style=\"color: #00d7ff; text-decoration-color: #00d7ff\">None</span>, <span style=\"color: #00af00; text-decoration-color: #00af00\">128</span>)                 │             <span style=\"color: #00af00; text-decoration-color: #00af00\">512</span> │\n",
              "│ (<span style=\"color: #0087ff; text-decoration-color: #0087ff\">BatchNormalization</span>)                 │                             │                 │\n",
              "├──────────────────────────────────────┼─────────────────────────────┼─────────────────┤\n",
              "│ dense_8 (<span style=\"color: #0087ff; text-decoration-color: #0087ff\">Dense</span>)                      │ (<span style=\"color: #00d7ff; text-decoration-color: #00d7ff\">None</span>, <span style=\"color: #00af00; text-decoration-color: #00af00\">64</span>)                  │           <span style=\"color: #00af00; text-decoration-color: #00af00\">8,256</span> │\n",
              "├──────────────────────────────────────┼─────────────────────────────┼─────────────────┤\n",
              "│ batch_normalization_5                │ (<span style=\"color: #00d7ff; text-decoration-color: #00d7ff\">None</span>, <span style=\"color: #00af00; text-decoration-color: #00af00\">64</span>)                  │             <span style=\"color: #00af00; text-decoration-color: #00af00\">256</span> │\n",
              "│ (<span style=\"color: #0087ff; text-decoration-color: #0087ff\">BatchNormalization</span>)                 │                             │                 │\n",
              "├──────────────────────────────────────┼─────────────────────────────┼─────────────────┤\n",
              "│ dense_9 (<span style=\"color: #0087ff; text-decoration-color: #0087ff\">Dense</span>)                      │ (<span style=\"color: #00d7ff; text-decoration-color: #00d7ff\">None</span>, <span style=\"color: #00af00; text-decoration-color: #00af00\">32</span>)                  │           <span style=\"color: #00af00; text-decoration-color: #00af00\">2,080</span> │\n",
              "├──────────────────────────────────────┼─────────────────────────────┼─────────────────┤\n",
              "│ dense_10 (<span style=\"color: #0087ff; text-decoration-color: #0087ff\">Dense</span>)                     │ (<span style=\"color: #00d7ff; text-decoration-color: #00d7ff\">None</span>, <span style=\"color: #00af00; text-decoration-color: #00af00\">3</span>)                   │              <span style=\"color: #00af00; text-decoration-color: #00af00\">99</span> │\n",
              "└──────────────────────────────────────┴─────────────────────────────┴─────────────────┘\n",
              "</pre>\n"
            ],
            "text/plain": [
              "┏━━━━━━━━━━━━━━━━━━━━━━━━━━━━━━━━━━━━━━┳━━━━━━━━━━━━━━━━━━━━━━━━━━━━━┳━━━━━━━━━━━━━━━━━┓\n",
              "┃\u001b[1m \u001b[0m\u001b[1mLayer (type)                        \u001b[0m\u001b[1m \u001b[0m┃\u001b[1m \u001b[0m\u001b[1mOutput Shape               \u001b[0m\u001b[1m \u001b[0m┃\u001b[1m \u001b[0m\u001b[1m        Param #\u001b[0m\u001b[1m \u001b[0m┃\n",
              "┡━━━━━━━━━━━━━━━━━━━━━━━━━━━━━━━━━━━━━━╇━━━━━━━━━━━━━━━━━━━━━━━━━━━━━╇━━━━━━━━━━━━━━━━━┩\n",
              "│ dense_7 (\u001b[38;5;33mDense\u001b[0m)                      │ (\u001b[38;5;45mNone\u001b[0m, \u001b[38;5;34m128\u001b[0m)                 │           \u001b[38;5;34m6,016\u001b[0m │\n",
              "├──────────────────────────────────────┼─────────────────────────────┼─────────────────┤\n",
              "│ batch_normalization_4                │ (\u001b[38;5;45mNone\u001b[0m, \u001b[38;5;34m128\u001b[0m)                 │             \u001b[38;5;34m512\u001b[0m │\n",
              "│ (\u001b[38;5;33mBatchNormalization\u001b[0m)                 │                             │                 │\n",
              "├──────────────────────────────────────┼─────────────────────────────┼─────────────────┤\n",
              "│ dense_8 (\u001b[38;5;33mDense\u001b[0m)                      │ (\u001b[38;5;45mNone\u001b[0m, \u001b[38;5;34m64\u001b[0m)                  │           \u001b[38;5;34m8,256\u001b[0m │\n",
              "├──────────────────────────────────────┼─────────────────────────────┼─────────────────┤\n",
              "│ batch_normalization_5                │ (\u001b[38;5;45mNone\u001b[0m, \u001b[38;5;34m64\u001b[0m)                  │             \u001b[38;5;34m256\u001b[0m │\n",
              "│ (\u001b[38;5;33mBatchNormalization\u001b[0m)                 │                             │                 │\n",
              "├──────────────────────────────────────┼─────────────────────────────┼─────────────────┤\n",
              "│ dense_9 (\u001b[38;5;33mDense\u001b[0m)                      │ (\u001b[38;5;45mNone\u001b[0m, \u001b[38;5;34m32\u001b[0m)                  │           \u001b[38;5;34m2,080\u001b[0m │\n",
              "├──────────────────────────────────────┼─────────────────────────────┼─────────────────┤\n",
              "│ dense_10 (\u001b[38;5;33mDense\u001b[0m)                     │ (\u001b[38;5;45mNone\u001b[0m, \u001b[38;5;34m3\u001b[0m)                   │              \u001b[38;5;34m99\u001b[0m │\n",
              "└──────────────────────────────────────┴─────────────────────────────┴─────────────────┘\n"
            ]
          },
          "metadata": {},
          "output_type": "display_data"
        },
        {
          "data": {
            "text/html": [
              "<pre style=\"white-space:pre;overflow-x:auto;line-height:normal;font-family:Menlo,'DejaVu Sans Mono',consolas,'Courier New',monospace\"><span style=\"font-weight: bold\"> Total params: </span><span style=\"color: #00af00; text-decoration-color: #00af00\">17,219</span> (67.26 KB)\n",
              "</pre>\n"
            ],
            "text/plain": [
              "\u001b[1m Total params: \u001b[0m\u001b[38;5;34m17,219\u001b[0m (67.26 KB)\n"
            ]
          },
          "metadata": {},
          "output_type": "display_data"
        },
        {
          "data": {
            "text/html": [
              "<pre style=\"white-space:pre;overflow-x:auto;line-height:normal;font-family:Menlo,'DejaVu Sans Mono',consolas,'Courier New',monospace\"><span style=\"font-weight: bold\"> Trainable params: </span><span style=\"color: #00af00; text-decoration-color: #00af00\">16,835</span> (65.76 KB)\n",
              "</pre>\n"
            ],
            "text/plain": [
              "\u001b[1m Trainable params: \u001b[0m\u001b[38;5;34m16,835\u001b[0m (65.76 KB)\n"
            ]
          },
          "metadata": {},
          "output_type": "display_data"
        },
        {
          "data": {
            "text/html": [
              "<pre style=\"white-space:pre;overflow-x:auto;line-height:normal;font-family:Menlo,'DejaVu Sans Mono',consolas,'Courier New',monospace\"><span style=\"font-weight: bold\"> Non-trainable params: </span><span style=\"color: #00af00; text-decoration-color: #00af00\">384</span> (1.50 KB)\n",
              "</pre>\n"
            ],
            "text/plain": [
              "\u001b[1m Non-trainable params: \u001b[0m\u001b[38;5;34m384\u001b[0m (1.50 KB)\n"
            ]
          },
          "metadata": {},
          "output_type": "display_data"
        },
        {
          "data": {
            "image/png": "[encoded data removed]",
            "text/plain": [
              "<IPython.core.display.Image object>"
            ]
          },
          "execution_count": 33,
          "metadata": {},
          "output_type": "execute_result"
        }
      ],
      "source": [
        "modelo = keras.Sequential(\n",
        "    [\n",
        "        layers.Dense(128, activation=\"relu\", input_shape=(X_train.shape[1],)),\n",
        "        layers.BatchNormalization(),\n",
        "        layers.Dropout(0.3),\n",
        "        layers.Dense(64, activation=\"relu\"),\n",
        "        layers.BatchNormalization(),\n",
        "        layers.Dropout(0.3),\n",
        "        layers.Dense(32, activation=\"relu\"),\n",
        "        layers.Dense(3, activation=\"softmax\"),\n",
        "    ]\n",
        ")\n",
        "\n",
        "modelo.summary()\n",
        "\n",
        "# grafica de la organizacion de las diferentes capas del modelo\n",
        "tf.keras.utils.plot_model(modelo, show_shapes=False)"
      ]
    },
    {
      "cell_type": "markdown",
      "metadata": {
        "id": "CUqzDAhsFSov"
      },
      "source": [
        "### Compilación y definición de callbacks"
      ]
    },
    {
      "cell_type": "code",
      "execution_count": null,
      "metadata": {
        "colab": {
          "base_uri": "https://localhost:8080/"
        },
        "id": "OX5fzRxHFUmr",
        "outputId": "af08292d-e0eb-4537-9977-5920d243e46b"
      },
      "outputs": [
        {
          "name": "stdout",
          "output_type": "stream",
          "text": [
            "Epoch 1/20\n",
            "\u001b[1m3179/3179\u001b[0m \u001b[32m━━━━━━━━━━━━━━━━━━━━\u001b[0m\u001b[37m\u001b[0m \u001b[1m16s\u001b[0m 4ms/step - accuracy: 0.6978 - loss: 0.5187 - val_accuracy: 0.7458 - val_loss: 0.5218\n",
            "Epoch 2/20\n",
            "\u001b[1m3179/3179\u001b[0m \u001b[32m━━━━━━━━━━━━━━━━━━━━\u001b[0m\u001b[37m\u001b[0m \u001b[1m12s\u001b[0m 4ms/step - accuracy: 0.7432 - loss: 0.3711 - val_accuracy: 0.7474 - val_loss: 0.4935\n",
            "Epoch 3/20\n",
            "\u001b[1m3179/3179\u001b[0m \u001b[32m━━━━━━━━━━━━━━━━━━━━\u001b[0m\u001b[37m\u001b[0m \u001b[1m21s\u001b[0m 4ms/step - accuracy: 0.7419 - loss: 0.3768 - val_accuracy: 0.7467 - val_loss: 0.5014\n",
            "Epoch 4/20\n",
            "\u001b[1m3179/3179\u001b[0m \u001b[32m━━━━━━━━━━━━━━━━━━━━\u001b[0m\u001b[37m\u001b[0m \u001b[1m20s\u001b[0m 4ms/step - accuracy: 0.7421 - loss: 0.3607 - val_accuracy: 0.7465 - val_loss: 0.4980\n",
            "Epoch 5/20\n",
            "\u001b[1m3179/3179\u001b[0m \u001b[32m━━━━━━━━━━━━━━━━━━━━\u001b[0m\u001b[37m\u001b[0m \u001b[1m11s\u001b[0m 4ms/step - accuracy: 0.7426 - loss: 0.3613 - val_accuracy: 0.7469 - val_loss: 0.5060\n",
            "Epoch 6/20\n",
            "\u001b[1m3179/3179\u001b[0m \u001b[32m━━━━━━━━━━━━━━━━━━━━\u001b[0m\u001b[37m\u001b[0m \u001b[1m22s\u001b[0m 4ms/step - accuracy: 0.7436 - loss: 0.3589 - val_accuracy: 0.7465 - val_loss: 0.5182\n",
            "Epoch 7/20\n",
            "\u001b[1m3179/3179\u001b[0m \u001b[32m━━━━━━━━━━━━━━━━━━━━\u001b[0m\u001b[37m\u001b[0m \u001b[1m19s\u001b[0m 3ms/step - accuracy: 0.7438 - loss: 0.3547 - val_accuracy: 0.7512 - val_loss: 0.4949\n",
            "Epoch 8/20\n",
            "\u001b[1m3179/3179\u001b[0m \u001b[32m━━━━━━━━━━━━━━━━━━━━\u001b[0m\u001b[37m\u001b[0m \u001b[1m12s\u001b[0m 4ms/step - accuracy: 0.7448 - loss: 0.3592 - val_accuracy: 0.7484 - val_loss: 0.5004\n",
            "Epoch 9/20\n",
            "\u001b[1m3179/3179\u001b[0m \u001b[32m━━━━━━━━━━━━━━━━━━━━\u001b[0m\u001b[37m\u001b[0m \u001b[1m20s\u001b[0m 4ms/step - accuracy: 0.7445 - loss: 0.3555 - val_accuracy: 0.7475 - val_loss: 0.5152\n",
            "Epoch 10/20\n",
            "\u001b[1m3179/3179\u001b[0m \u001b[32m━━━━━━━━━━━━━━━━━━━━\u001b[0m\u001b[37m\u001b[0m \u001b[1m20s\u001b[0m 3ms/step - accuracy: 0.7426 - loss: 0.3574 - val_accuracy: 0.7494 - val_loss: 0.4846\n",
            "Epoch 11/20\n",
            "\u001b[1m3179/3179\u001b[0m \u001b[32m━━━━━━━━━━━━━━━━━━━━\u001b[0m\u001b[37m\u001b[0m \u001b[1m12s\u001b[0m 4ms/step - accuracy: 0.7501 - loss: 0.3470 - val_accuracy: 0.7482 - val_loss: 0.4913\n",
            "Epoch 12/20\n",
            "\u001b[1m3179/3179\u001b[0m \u001b[32m━━━━━━━━━━━━━━━━━━━━\u001b[0m\u001b[37m\u001b[0m \u001b[1m20s\u001b[0m 3ms/step - accuracy: 0.7458 - loss: 0.3559 - val_accuracy: 0.7463 - val_loss: 0.5072\n",
            "Epoch 13/20\n",
            "\u001b[1m3179/3179\u001b[0m \u001b[32m━━━━━━━━━━━━━━━━━━━━\u001b[0m\u001b[37m\u001b[0m \u001b[1m21s\u001b[0m 3ms/step - accuracy: 0.7460 - loss: 0.3496 - val_accuracy: 0.7490 - val_loss: 0.4974\n",
            "Epoch 14/20\n",
            "\u001b[1m3179/3179\u001b[0m \u001b[32m━━━━━━━━━━━━━━━━━━━━\u001b[0m\u001b[37m\u001b[0m \u001b[1m21s\u001b[0m 4ms/step - accuracy: 0.7477 - loss: 0.3481 - val_accuracy: 0.7487 - val_loss: 0.5085\n",
            "Epoch 15/20\n",
            "\u001b[1m3179/3179\u001b[0m \u001b[32m━━━━━━━━━━━━━━━━━━━━\u001b[0m\u001b[37m\u001b[0m \u001b[1m21s\u001b[0m 4ms/step - accuracy: 0.7488 - loss: 0.3498 - val_accuracy: 0.7494 - val_loss: 0.5015\n",
            "Epoch 16/20\n",
            "\u001b[1m3179/3179\u001b[0m \u001b[32m━━━━━━━━━━━━━━━━━━━━\u001b[0m\u001b[37m\u001b[0m \u001b[1m21s\u001b[0m 4ms/step - accuracy: 0.7484 - loss: 0.3476 - val_accuracy: 0.7504 - val_loss: 0.4901\n",
            "Epoch 17/20\n",
            "\u001b[1m3179/3179\u001b[0m \u001b[32m━━━━━━━━━━━━━━━━━━━━\u001b[0m\u001b[37m\u001b[0m \u001b[1m12s\u001b[0m 4ms/step - accuracy: 0.7494 - loss: 0.3431 - val_accuracy: 0.7482 - val_loss: 0.5055\n",
            "Epoch 18/20\n",
            "\u001b[1m3179/3179\u001b[0m \u001b[32m━━━━━━━━━━━━━━━━━━━━\u001b[0m\u001b[37m\u001b[0m \u001b[1m19s\u001b[0m 3ms/step - accuracy: 0.7485 - loss: 0.3480 - val_accuracy: 0.7537 - val_loss: 0.4853\n",
            "Epoch 19/20\n",
            "\u001b[1m3179/3179\u001b[0m \u001b[32m━━━━━━━━━━━━━━━━━━━━\u001b[0m\u001b[37m\u001b[0m \u001b[1m12s\u001b[0m 4ms/step - accuracy: 0.7527 - loss: 0.3441 - val_accuracy: 0.7534 - val_loss: 0.4854\n",
            "Epoch 20/20\n",
            "\u001b[1m3179/3179\u001b[0m \u001b[32m━━━━━━━━━━━━━━━━━━━━\u001b[0m\u001b[37m\u001b[0m \u001b[1m12s\u001b[0m 4ms/step - accuracy: 0.7537 - loss: 0.3427 - val_accuracy: 0.7505 - val_loss: 0.5234\n"
          ]
        }
      ],
      "source": [
        "# Definir el optimizador\n",
        "optimizador = Adam(learning_rate=0.001)\n",
        "\n",
        "# Compilacion\n",
        "modelo.compile(\n",
        "    optimizer=optimizador, loss=\"sparse_categorical_crossentropy\", metrics=[\"accuracy\"]\n",
        ")\n",
        "\n",
        "# Definir callbacks: EarlyStopping y ModelCheckpoint\n",
        "early_stopping = EarlyStopping(\n",
        "    monitor=\"val_loss\",  # Monitorea la pérdida de validación\n",
        "    patience=10,  # Número de épocas con mejora mínima para detener el entrenamiento\n",
        "    restore_best_weights=True,\n",
        ")  # Restaurar los pesos del modelo con la mejor pérdida de validación\n",
        "\n",
        "checkpoint_filepath = \"./checkpoint.modelo.keras\"\n",
        "model_checkpoint_callback = ModelCheckpoint(\n",
        "    filepath=checkpoint_filepath,\n",
        "    monitor=\"val_accuracy\",\n",
        "    mode=\"max\",\n",
        "    save_best_only=True,\n",
        ")\n",
        "\n",
        "# Entrenar el modelo con los pesos de clase\n",
        "history = modelo.fit(\n",
        "    X_train,\n",
        "    y_train,\n",
        "    epochs=20,\n",
        "    batch_size=32,\n",
        "    validation_data=(X_test, y_test),\n",
        "    verbose=1,\n",
        "    class_weight=classWeightsDict,\n",
        "    callbacks=[early_stopping, model_checkpoint_callback],\n",
        ")"
      ]
    },
    {
      "cell_type": "markdown",
      "metadata": {
        "id": "Fg4zW8ImHzGm"
      },
      "source": [
        "Cargar el modelo guardado"
      ]
    },
    {
      "cell_type": "code",
      "execution_count": 8,
      "metadata": {
        "id": "_pFWTTEUH1fB"
      },
      "outputs": [],
      "source": [
        "# Cargar el modelo guardado como .keras\n",
        "modelo = tf.keras.models.load_model(\"./checkpoint.modelo.keras\")"
      ]
    },
    {
      "cell_type": "markdown",
      "metadata": {
        "id": "EsF9GjfaH-dn"
      },
      "source": [
        "## Evaluacion Del Modelo"
      ]
    },
    {
      "cell_type": "code",
      "execution_count": null,
      "metadata": {
        "colab": {
          "base_uri": "https://localhost:8080/"
        },
        "id": "eSLjztKmICxw",
        "outputId": "18cd5d60-3fba-4f56-8bb7-50de4c5001e8"
      },
      "outputs": [
        {
          "name": "stdout",
          "output_type": "stream",
          "text": [
            "\u001b[1m795/795\u001b[0m \u001b[32m━━━━━━━━━━━━━━━━━━━━\u001b[0m\u001b[37m\u001b[0m \u001b[1m2s\u001b[0m 2ms/step - accuracy: 0.7518 - loss: 0.4828\n",
            "Pérdida en el conjunto de prueba: 0.4846372604370117\n",
            "Precisión en el conjunto de prueba: 0.7493707537651062\n"
          ]
        }
      ],
      "source": [
        "# Evaluar el modelo en el conjunto de prueba\n",
        "loss, accuracy = modelo.evaluate(X_test, y_test)\n",
        "\n",
        "print(f\"Pérdida en el conjunto de prueba: {loss}\")\n",
        "print(f\"Precisión en el conjunto de prueba: {accuracy}\")"
      ]
    },
    {
      "cell_type": "code",
      "execution_count": null,
      "metadata": {
        "colab": {
          "base_uri": "https://localhost:8080/"
        },
        "id": "9aNe4hNcJovf",
        "outputId": "7b614104-5509-4626-9ab6-20d9328dbaa3"
      },
      "outputs": [
        {
          "name": "stdout",
          "output_type": "stream",
          "text": [
            "\u001b[1m795/795\u001b[0m \u001b[32m━━━━━━━━━━━━━━━━━━━━\u001b[0m\u001b[37m\u001b[0m \u001b[1m2s\u001b[0m 2ms/step\n"
          ]
        }
      ],
      "source": [
        "# Obtener predicciones del modelo\n",
        "y_pred = np.argmax(modelo.predict(X_test), axis=1)  # Predicciones en clases\n",
        "y_true = y_test  # Clases reales\n",
        "\n",
        "# Calcular métricas de desempeño\n",
        "accuracy = accuracy_score(y_true, y_pred)\n",
        "precision = precision_score(\n",
        "    y_true, y_pred, average=\"weighted\"\n",
        ")  # 'weighted' maneja múltiples clases\n",
        "recall = recall_score(y_true, y_pred, average=\"weighted\")\n",
        "f1 = f1_score(y_true, y_pred, average=\"weighted\")"
      ]
    },
    {
      "cell_type": "code",
      "execution_count": 37,
      "metadata": {
        "colab": {
          "base_uri": "https://localhost:8080/"
        },
        "id": "a43Ki6PAJzGI",
        "outputId": "ffc9fdef-40fb-4ce8-8e9c-8e63f8817376"
      },
      "outputs": [
        {
          "name": "stdout",
          "output_type": "stream",
          "text": [
            "Exactitud (Accuracy): 0.7494\n",
            "Precisión (Precision): 0.8321\n",
            "Sensibilidad (Recall): 0.7494\n",
            "F1-Score: 0.7532\n"
          ]
        }
      ],
      "source": [
        "# Imprime las métricas\n",
        "print(f\"Exactitud (Accuracy): {accuracy:.4f}\")\n",
        "print(f\"Precisión (Precision): {precision:.4f}\")\n",
        "print(f\"Sensibilidad (Recall): {recall:.4f}\")\n",
        "print(f\"F1-Score: {f1:.4f}\")"
      ]
    },
    {
      "cell_type": "markdown",
      "metadata": {
        "id": "lZlV0vvsJ2GW"
      },
      "source": [
        "### Matriz de confusion"
      ]
    },
    {
      "cell_type": "code",
      "execution_count": null,
      "metadata": {
        "colab": {
          "base_uri": "https://localhost:8080/",
          "height": 625
        },
        "id": "mqWlasgFJ5VF",
        "outputId": "014e1e07-0f8a-4242-e7df-ff1ce4c928b8"
      },
      "outputs": [
        {
          "name": "stdout",
          "output_type": "stream",
          "text": [
            "[[10581   196   524]\n",
            " [ 5421  8337   230]\n",
            " [    2     0   137]]\n"
          ]
        },
        {
          "data": {
            "image/png": "[encoded data removed]",
            "text/plain": [
              "<Figure size 800x600 with 2 Axes>"
            ]
          },
          "metadata": {},
          "output_type": "display_data"
        }
      ],
      "source": [
        "# Mostrar matriz de confusión\n",
        "cm = confusion_matrix(y_true, y_pred)\n",
        "print(cm)\n",
        "plt.figure(figsize=(8, 6))\n",
        "sns.heatmap(\n",
        "    cm,\n",
        "    annot=True,\n",
        "    fmt=\"d\",\n",
        "    cmap=\"Blues\",\n",
        "    xticklabels=labelEncoder.classes_,\n",
        "    yticklabels=labelEncoder.classes_,\n",
        ")\n",
        "plt.xlabel(\"Predicho\")\n",
        "plt.ylabel(\"Real\")\n",
        "plt.title(\"Matriz de Confusión\")\n",
        "plt.show()"
      ]
    }
  ],
  "metadata": {
    "accelerator": "GPU",
    "colab": {
      "gpuType": "T4",
      "provenance": []
    },
    "kernelspec": {
      "display_name": ".venv",
      "language": "python",
      "name": "python3"
    },
    "language_info": {
      "codemirror_mode": {
        "name": "ipython",
        "version": 3
      },
      "file_extension": ".py",
      "mimetype": "text/x-python",
      "name": "python",
      "nbconvert_exporter": "python",
      "pygments_lexer": "ipython3",
      "version": "3.12.6"
    }
  },
  "nbformat": 4,
  "nbformat_minor": 0
}
